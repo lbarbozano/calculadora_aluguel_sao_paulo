{
  "nbformat": 4,
  "nbformat_minor": 0,
  "metadata": {
    "colab": {
      "name": "aprendizagem_maquina_calculadora_aluguel_sao_paulo.ipynb",
      "provenance": [],
      "collapsed_sections": [],
      "authorship_tag": "ABX9TyPHFVOvLcG7+Clbd6v/1s8I",
      "include_colab_link": true
    },
    "kernelspec": {
      "name": "python3",
      "display_name": "Python 3"
    }
  },
  "cells": [
    {
      "cell_type": "markdown",
      "metadata": {
        "id": "view-in-github",
        "colab_type": "text"
      },
      "source": [
        "<a href=\"https://colab.research.google.com/github/lbarbozano/calculadora_aluguel_sao_paulo/blob/main/aprendizagem_maquina_calculadora_aluguel_sao_paulo.ipynb\" target=\"_parent\"><img src=\"https://colab.research.google.com/assets/colab-badge.svg\" alt=\"Open In Colab\"/></a>"
      ]
    },
    {
      "cell_type": "code",
      "metadata": {
        "id": "Vv5YDKf049uU"
      },
      "source": [
        "import pandas as pd\r\n",
        "import matplotlib.pyplot as plt\r\n",
        "import seaborn as sns\r\n",
        "import numpy as np"
      ],
      "execution_count": null,
      "outputs": []
    },
    {
      "cell_type": "code",
      "metadata": {
        "id": "JE6kSyfy5xk0"
      },
      "source": [
        "url = 'https://raw.githubusercontent.com/fernandoawari/calculadora-aluguel-turma-set-20/main/2-manipulacao/dados_aluguel_ml_sao_paulo_preprocessado.csv'"
      ],
      "execution_count": null,
      "outputs": []
    },
    {
      "cell_type": "code",
      "metadata": {
        "colab": {
          "base_uri": "https://localhost:8080/",
          "height": 204
        },
        "id": "P1uUcGM_50qX",
        "outputId": "7cddf719-02a2-415a-a2ce-dbf550966723"
      },
      "source": [
        "data = pd.read_csv(url)\r\n",
        "data.head()"
      ],
      "execution_count": null,
      "outputs": [
        {
          "output_type": "execute_result",
          "data": {
            "text/html": [
              "<div>\n",
              "<style scoped>\n",
              "    .dataframe tbody tr th:only-of-type {\n",
              "        vertical-align: middle;\n",
              "    }\n",
              "\n",
              "    .dataframe tbody tr th {\n",
              "        vertical-align: top;\n",
              "    }\n",
              "\n",
              "    .dataframe thead th {\n",
              "        text-align: right;\n",
              "    }\n",
              "</style>\n",
              "<table border=\"1\" class=\"dataframe\">\n",
              "  <thead>\n",
              "    <tr style=\"text-align: right;\">\n",
              "      <th></th>\n",
              "      <th>zona</th>\n",
              "      <th>enderecos_lista</th>\n",
              "      <th>area</th>\n",
              "      <th>quartos</th>\n",
              "      <th>aluguel</th>\n",
              "    </tr>\n",
              "  </thead>\n",
              "  <tbody>\n",
              "    <tr>\n",
              "      <th>0</th>\n",
              "      <td>norte</td>\n",
              "      <td>Praça Rafael Mendes De Carvalho, Jardim Paraís...</td>\n",
              "      <td>50.0</td>\n",
              "      <td>2.0</td>\n",
              "      <td>1150</td>\n",
              "    </tr>\n",
              "    <tr>\n",
              "      <th>1</th>\n",
              "      <td>norte</td>\n",
              "      <td>Rua Almirante Noronha, Jardim São Paulo, São P...</td>\n",
              "      <td>76.0</td>\n",
              "      <td>3.0</td>\n",
              "      <td>1480</td>\n",
              "    </tr>\n",
              "    <tr>\n",
              "      <th>2</th>\n",
              "      <td>norte</td>\n",
              "      <td>Rua Cássio De Almeida, Vila Guilherme, São Pau...</td>\n",
              "      <td>30.0</td>\n",
              "      <td>1.0</td>\n",
              "      <td>800</td>\n",
              "    </tr>\n",
              "    <tr>\n",
              "      <th>3</th>\n",
              "      <td>norte</td>\n",
              "      <td>Rua Cabo José Da Silva, Parque Novo Mundo, São...</td>\n",
              "      <td>80.0</td>\n",
              "      <td>3.0</td>\n",
              "      <td>1180</td>\n",
              "    </tr>\n",
              "    <tr>\n",
              "      <th>4</th>\n",
              "      <td>norte</td>\n",
              "      <td>Parque Domingos Luís, Jardim São Paulo, São Pa...</td>\n",
              "      <td>70.0</td>\n",
              "      <td>2.0</td>\n",
              "      <td>1300</td>\n",
              "    </tr>\n",
              "  </tbody>\n",
              "</table>\n",
              "</div>"
            ],
            "text/plain": [
              "    zona                                    enderecos_lista  ...  quartos  aluguel\n",
              "0  norte  Praça Rafael Mendes De Carvalho, Jardim Paraís...  ...      2.0     1150\n",
              "1  norte  Rua Almirante Noronha, Jardim São Paulo, São P...  ...      3.0     1480\n",
              "2  norte  Rua Cássio De Almeida, Vila Guilherme, São Pau...  ...      1.0      800\n",
              "3  norte  Rua Cabo José Da Silva, Parque Novo Mundo, São...  ...      3.0     1180\n",
              "4  norte  Parque Domingos Luís, Jardim São Paulo, São Pa...  ...      2.0     1300\n",
              "\n",
              "[5 rows x 5 columns]"
            ]
          },
          "metadata": {
            "tags": []
          },
          "execution_count": 3
        }
      ]
    },
    {
      "cell_type": "code",
      "metadata": {
        "colab": {
          "base_uri": "https://localhost:8080/",
          "height": 142
        },
        "id": "TsEjX3A052kY",
        "outputId": "58f87a9c-13b3-4083-c077-62750b776403"
      },
      "source": [
        "data.describe().T"
      ],
      "execution_count": null,
      "outputs": [
        {
          "output_type": "execute_result",
          "data": {
            "text/html": [
              "<div>\n",
              "<style scoped>\n",
              "    .dataframe tbody tr th:only-of-type {\n",
              "        vertical-align: middle;\n",
              "    }\n",
              "\n",
              "    .dataframe tbody tr th {\n",
              "        vertical-align: top;\n",
              "    }\n",
              "\n",
              "    .dataframe thead th {\n",
              "        text-align: right;\n",
              "    }\n",
              "</style>\n",
              "<table border=\"1\" class=\"dataframe\">\n",
              "  <thead>\n",
              "    <tr style=\"text-align: right;\">\n",
              "      <th></th>\n",
              "      <th>count</th>\n",
              "      <th>mean</th>\n",
              "      <th>std</th>\n",
              "      <th>min</th>\n",
              "      <th>25%</th>\n",
              "      <th>50%</th>\n",
              "      <th>75%</th>\n",
              "      <th>max</th>\n",
              "    </tr>\n",
              "  </thead>\n",
              "  <tbody>\n",
              "    <tr>\n",
              "      <th>area</th>\n",
              "      <td>1341.0</td>\n",
              "      <td>112.697987</td>\n",
              "      <td>259.503149</td>\n",
              "      <td>1.0</td>\n",
              "      <td>48.0</td>\n",
              "      <td>67.0</td>\n",
              "      <td>106.0</td>\n",
              "      <td>7800.0</td>\n",
              "    </tr>\n",
              "    <tr>\n",
              "      <th>quartos</th>\n",
              "      <td>1273.0</td>\n",
              "      <td>2.106834</td>\n",
              "      <td>0.882869</td>\n",
              "      <td>1.0</td>\n",
              "      <td>1.0</td>\n",
              "      <td>2.0</td>\n",
              "      <td>3.0</td>\n",
              "      <td>5.0</td>\n",
              "    </tr>\n",
              "    <tr>\n",
              "      <th>aluguel</th>\n",
              "      <td>1344.0</td>\n",
              "      <td>4396.404762</td>\n",
              "      <td>29225.842756</td>\n",
              "      <td>299.0</td>\n",
              "      <td>1500.0</td>\n",
              "      <td>2200.0</td>\n",
              "      <td>3577.5</td>\n",
              "      <td>870000.0</td>\n",
              "    </tr>\n",
              "  </tbody>\n",
              "</table>\n",
              "</div>"
            ],
            "text/plain": [
              "          count         mean           std  ...     50%     75%       max\n",
              "area     1341.0   112.697987    259.503149  ...    67.0   106.0    7800.0\n",
              "quartos  1273.0     2.106834      0.882869  ...     2.0     3.0       5.0\n",
              "aluguel  1344.0  4396.404762  29225.842756  ...  2200.0  3577.5  870000.0\n",
              "\n",
              "[3 rows x 8 columns]"
            ]
          },
          "metadata": {
            "tags": []
          },
          "execution_count": 4
        }
      ]
    },
    {
      "cell_type": "code",
      "metadata": {
        "colab": {
          "base_uri": "https://localhost:8080/"
        },
        "id": "ppuuW3XM54uk",
        "outputId": "e4d51631-1a3b-419d-e1b9-b74917fbb9e9"
      },
      "source": [
        "data.info()"
      ],
      "execution_count": null,
      "outputs": [
        {
          "output_type": "stream",
          "text": [
            "<class 'pandas.core.frame.DataFrame'>\n",
            "RangeIndex: 1344 entries, 0 to 1343\n",
            "Data columns (total 5 columns):\n",
            " #   Column           Non-Null Count  Dtype  \n",
            "---  ------           --------------  -----  \n",
            " 0   zona             1344 non-null   object \n",
            " 1   enderecos_lista  1344 non-null   object \n",
            " 2   area             1341 non-null   float64\n",
            " 3   quartos          1273 non-null   float64\n",
            " 4   aluguel          1344 non-null   int64  \n",
            "dtypes: float64(2), int64(1), object(2)\n",
            "memory usage: 52.6+ KB\n"
          ],
          "name": "stdout"
        }
      ]
    },
    {
      "cell_type": "code",
      "metadata": {
        "id": "GwokWkT556pr"
      },
      "source": [
        "from sklearn.model_selection import train_test_split"
      ],
      "execution_count": null,
      "outputs": []
    },
    {
      "cell_type": "code",
      "metadata": {
        "id": "UfOt-CU45-k8"
      },
      "source": [
        "train, test = train_test_split(data, test_size=0.25, random_state=123, stratify=data['zona'])"
      ],
      "execution_count": null,
      "outputs": []
    },
    {
      "cell_type": "code",
      "metadata": {
        "colab": {
          "base_uri": "https://localhost:8080/"
        },
        "id": "fvA0IJyX6ArD",
        "outputId": "21ffc3eb-0970-4ee0-8267-97a39220419e"
      },
      "source": [
        "train.info()"
      ],
      "execution_count": null,
      "outputs": [
        {
          "output_type": "stream",
          "text": [
            "<class 'pandas.core.frame.DataFrame'>\n",
            "Int64Index: 1008 entries, 221 to 904\n",
            "Data columns (total 5 columns):\n",
            " #   Column           Non-Null Count  Dtype  \n",
            "---  ------           --------------  -----  \n",
            " 0   zona             1008 non-null   object \n",
            " 1   enderecos_lista  1008 non-null   object \n",
            " 2   area             1005 non-null   float64\n",
            " 3   quartos          948 non-null    float64\n",
            " 4   aluguel          1008 non-null   int64  \n",
            "dtypes: float64(2), int64(1), object(2)\n",
            "memory usage: 47.2+ KB\n"
          ],
          "name": "stdout"
        }
      ]
    },
    {
      "cell_type": "code",
      "metadata": {
        "colab": {
          "base_uri": "https://localhost:8080/"
        },
        "id": "Y1X2vo-o6Cjf",
        "outputId": "574ad2e3-9b56-4827-83a4-fdedb28fea94"
      },
      "source": [
        "train['zona'].value_counts()"
      ],
      "execution_count": null,
      "outputs": [
        {
          "output_type": "execute_result",
          "data": {
            "text/plain": [
              "oeste    252\n",
              "leste    252\n",
              "norte    252\n",
              "sul      252\n",
              "Name: zona, dtype: int64"
            ]
          },
          "metadata": {
            "tags": []
          },
          "execution_count": 9
        }
      ]
    },
    {
      "cell_type": "code",
      "metadata": {
        "colab": {
          "base_uri": "https://localhost:8080/"
        },
        "id": "wMqSqKMe6FCB",
        "outputId": "06c7f61e-b85e-450c-8c2e-507f8243cf54"
      },
      "source": [
        "test.info()"
      ],
      "execution_count": null,
      "outputs": [
        {
          "output_type": "stream",
          "text": [
            "<class 'pandas.core.frame.DataFrame'>\n",
            "Int64Index: 336 entries, 419 to 1159\n",
            "Data columns (total 5 columns):\n",
            " #   Column           Non-Null Count  Dtype  \n",
            "---  ------           --------------  -----  \n",
            " 0   zona             336 non-null    object \n",
            " 1   enderecos_lista  336 non-null    object \n",
            " 2   area             336 non-null    float64\n",
            " 3   quartos          325 non-null    float64\n",
            " 4   aluguel          336 non-null    int64  \n",
            "dtypes: float64(2), int64(1), object(2)\n",
            "memory usage: 15.8+ KB\n"
          ],
          "name": "stdout"
        }
      ]
    },
    {
      "cell_type": "code",
      "metadata": {
        "colab": {
          "base_uri": "https://localhost:8080/"
        },
        "id": "jOmVweaI6G3Y",
        "outputId": "24740c3b-abb3-4d5f-a319-ca850429ae0e"
      },
      "source": [
        "test['zona'].value_counts()"
      ],
      "execution_count": null,
      "outputs": [
        {
          "output_type": "execute_result",
          "data": {
            "text/plain": [
              "oeste    84\n",
              "leste    84\n",
              "norte    84\n",
              "sul      84\n",
              "Name: zona, dtype: int64"
            ]
          },
          "metadata": {
            "tags": []
          },
          "execution_count": 11
        }
      ]
    },
    {
      "cell_type": "code",
      "metadata": {
        "colab": {
          "base_uri": "https://localhost:8080/",
          "height": 204
        },
        "id": "XFNQAguv6I-J",
        "outputId": "9b3192ab-5e80-49f6-a8e7-49ff6a2f7b00"
      },
      "source": [
        "test.head()"
      ],
      "execution_count": null,
      "outputs": [
        {
          "output_type": "execute_result",
          "data": {
            "text/html": [
              "<div>\n",
              "<style scoped>\n",
              "    .dataframe tbody tr th:only-of-type {\n",
              "        vertical-align: middle;\n",
              "    }\n",
              "\n",
              "    .dataframe tbody tr th {\n",
              "        vertical-align: top;\n",
              "    }\n",
              "\n",
              "    .dataframe thead th {\n",
              "        text-align: right;\n",
              "    }\n",
              "</style>\n",
              "<table border=\"1\" class=\"dataframe\">\n",
              "  <thead>\n",
              "    <tr style=\"text-align: right;\">\n",
              "      <th></th>\n",
              "      <th>zona</th>\n",
              "      <th>enderecos_lista</th>\n",
              "      <th>area</th>\n",
              "      <th>quartos</th>\n",
              "      <th>aluguel</th>\n",
              "    </tr>\n",
              "  </thead>\n",
              "  <tbody>\n",
              "    <tr>\n",
              "      <th>419</th>\n",
              "      <td>sul</td>\n",
              "      <td>Rua Abagiba, Saúde, São Paulo Zona Sul, São Paulo</td>\n",
              "      <td>52.0</td>\n",
              "      <td>2.0</td>\n",
              "      <td>2020</td>\n",
              "    </tr>\n",
              "    <tr>\n",
              "      <th>366</th>\n",
              "      <td>sul</td>\n",
              "      <td>Rua Francisco José Da Silva, Vila Andrade, São...</td>\n",
              "      <td>40.0</td>\n",
              "      <td>1.0</td>\n",
              "      <td>1502</td>\n",
              "    </tr>\n",
              "    <tr>\n",
              "      <th>618</th>\n",
              "      <td>sul</td>\n",
              "      <td>Rua Maracá, Vila Guarani (z Sul), São Paulo Zo...</td>\n",
              "      <td>47.0</td>\n",
              "      <td>2.0</td>\n",
              "      <td>1610</td>\n",
              "    </tr>\n",
              "    <tr>\n",
              "      <th>653</th>\n",
              "      <td>sul</td>\n",
              "      <td>Avenida Barão De Campos Gerais, Real Parque, S...</td>\n",
              "      <td>115.0</td>\n",
              "      <td>3.0</td>\n",
              "      <td>3000</td>\n",
              "    </tr>\n",
              "    <tr>\n",
              "      <th>248</th>\n",
              "      <td>norte</td>\n",
              "      <td>Rua Voluntários Da Pátria, Santana, São Paulo ...</td>\n",
              "      <td>40.0</td>\n",
              "      <td>1.0</td>\n",
              "      <td>2500</td>\n",
              "    </tr>\n",
              "  </tbody>\n",
              "</table>\n",
              "</div>"
            ],
            "text/plain": [
              "      zona                                    enderecos_lista  ...  quartos  aluguel\n",
              "419    sul  Rua Abagiba, Saúde, São Paulo Zona Sul, São Paulo  ...      2.0     2020\n",
              "366    sul  Rua Francisco José Da Silva, Vila Andrade, São...  ...      1.0     1502\n",
              "618    sul  Rua Maracá, Vila Guarani (z Sul), São Paulo Zo...  ...      2.0     1610\n",
              "653    sul  Avenida Barão De Campos Gerais, Real Parque, S...  ...      3.0     3000\n",
              "248  norte  Rua Voluntários Da Pátria, Santana, São Paulo ...  ...      1.0     2500\n",
              "\n",
              "[5 rows x 5 columns]"
            ]
          },
          "metadata": {
            "tags": []
          },
          "execution_count": 12
        }
      ]
    },
    {
      "cell_type": "code",
      "metadata": {
        "colab": {
          "base_uri": "https://localhost:8080/",
          "height": 567
        },
        "id": "kSP3STxw6LZH",
        "outputId": "af811e63-57eb-4513-93ba-8004ed0fcebf"
      },
      "source": [
        "sns.pairplot(train, kind='reg')"
      ],
      "execution_count": null,
      "outputs": [
        {
          "output_type": "execute_result",
          "data": {
            "text/plain": [
              "<seaborn.axisgrid.PairGrid at 0x7fed77647e10>"
            ]
          },
          "metadata": {
            "tags": []
          },
          "execution_count": 13
        },
        {
          "output_type": "display_data",
          "data": {
            "image/png": "[encoded data removed]",
            "text/plain": [
              "<Figure size 540x540 with 12 Axes>"
            ]
          },
          "metadata": {
            "tags": [],
            "needs_background": "light"
          }
        }
      ]
    },
    {
      "cell_type": "code",
      "metadata": {
        "colab": {
          "base_uri": "https://localhost:8080/"
        },
        "id": "1YUrx76R6Neu",
        "outputId": "1053ad43-3510-400d-a3ba-f0cddb2f2351"
      },
      "source": [
        "train['aluguel']=train['aluguel'].apply(np.log1p)\r\n",
        "train['area']=train['area'].apply(np.log1p)"
      ],
      "execution_count": null,
      "outputs": [
        {
          "output_type": "stream",
          "text": [
            "/usr/local/lib/python3.6/dist-packages/ipykernel_launcher.py:1: SettingWithCopyWarning: \n",
            "A value is trying to be set on a copy of a slice from a DataFrame.\n",
            "Try using .loc[row_indexer,col_indexer] = value instead\n",
            "\n",
            "See the caveats in the documentation: https://pandas.pydata.org/pandas-docs/stable/user_guide/indexing.html#returning-a-view-versus-a-copy\n",
            "  \"\"\"Entry point for launching an IPython kernel.\n",
            "/usr/local/lib/python3.6/dist-packages/ipykernel_launcher.py:2: SettingWithCopyWarning: \n",
            "A value is trying to be set on a copy of a slice from a DataFrame.\n",
            "Try using .loc[row_indexer,col_indexer] = value instead\n",
            "\n",
            "See the caveats in the documentation: https://pandas.pydata.org/pandas-docs/stable/user_guide/indexing.html#returning-a-view-versus-a-copy\n",
            "  \n"
          ],
          "name": "stderr"
        }
      ]
    },
    {
      "cell_type": "code",
      "metadata": {
        "colab": {
          "base_uri": "https://localhost:8080/"
        },
        "id": "vpMi7z3i6Q1s",
        "outputId": "131f9ce2-b2d5-4239-9885-ff12adec3b01"
      },
      "source": [
        "test['aluguel']=test['aluguel'].apply(np.log1p)\r\n",
        "test['area']=test['area'].apply(np.log1p)"
      ],
      "execution_count": null,
      "outputs": [
        {
          "output_type": "stream",
          "text": [
            "/usr/local/lib/python3.6/dist-packages/ipykernel_launcher.py:1: SettingWithCopyWarning: \n",
            "A value is trying to be set on a copy of a slice from a DataFrame.\n",
            "Try using .loc[row_indexer,col_indexer] = value instead\n",
            "\n",
            "See the caveats in the documentation: https://pandas.pydata.org/pandas-docs/stable/user_guide/indexing.html#returning-a-view-versus-a-copy\n",
            "  \"\"\"Entry point for launching an IPython kernel.\n",
            "/usr/local/lib/python3.6/dist-packages/ipykernel_launcher.py:2: SettingWithCopyWarning: \n",
            "A value is trying to be set on a copy of a slice from a DataFrame.\n",
            "Try using .loc[row_indexer,col_indexer] = value instead\n",
            "\n",
            "See the caveats in the documentation: https://pandas.pydata.org/pandas-docs/stable/user_guide/indexing.html#returning-a-view-versus-a-copy\n",
            "  \n"
          ],
          "name": "stderr"
        }
      ]
    },
    {
      "cell_type": "code",
      "metadata": {
        "colab": {
          "base_uri": "https://localhost:8080/",
          "height": 567
        },
        "id": "f_vbWPc66Tex",
        "outputId": "214907b8-1fe6-419b-a720-d6acbdd1ac8b"
      },
      "source": [
        "sns.pairplot(train, kind='reg')"
      ],
      "execution_count": null,
      "outputs": [
        {
          "output_type": "execute_result",
          "data": {
            "text/plain": [
              "<seaborn.axisgrid.PairGrid at 0x7fed773e37b8>"
            ]
          },
          "metadata": {
            "tags": []
          },
          "execution_count": 16
        },
        {
          "output_type": "display_data",
          "data": {
            "image/png": "[encoded data removed]",
            "text/plain": [
              "<Figure size 540x540 with 12 Axes>"
            ]
          },
          "metadata": {
            "tags": [],
            "needs_background": "light"
          }
        }
      ]
    },
    {
      "cell_type": "code",
      "metadata": {
        "id": "C_pkrb0-6WGW"
      },
      "source": [
        "X_cols = ['zona', 'area', 'quartos']\r\n",
        "y_col = ['aluguel']"
      ],
      "execution_count": null,
      "outputs": []
    },
    {
      "cell_type": "code",
      "metadata": {
        "id": "oAu_RtJS6YM6"
      },
      "source": [
        "X_train = train[X_cols]\r\n",
        "X_test = test[X_cols]\r\n",
        "y_train = train[y_col]\r\n",
        "y_test = test[y_col]"
      ],
      "execution_count": null,
      "outputs": []
    },
    {
      "cell_type": "code",
      "metadata": {
        "colab": {
          "base_uri": "https://localhost:8080/",
          "height": 204
        },
        "id": "5vIDbwCR6aO7",
        "outputId": "ca0a91bb-fd6b-4c79-85dc-98a8c8a64726"
      },
      "source": [
        "X_train.head()"
      ],
      "execution_count": null,
      "outputs": [
        {
          "output_type": "execute_result",
          "data": {
            "text/html": [
              "<div>\n",
              "<style scoped>\n",
              "    .dataframe tbody tr th:only-of-type {\n",
              "        vertical-align: middle;\n",
              "    }\n",
              "\n",
              "    .dataframe tbody tr th {\n",
              "        vertical-align: top;\n",
              "    }\n",
              "\n",
              "    .dataframe thead th {\n",
              "        text-align: right;\n",
              "    }\n",
              "</style>\n",
              "<table border=\"1\" class=\"dataframe\">\n",
              "  <thead>\n",
              "    <tr style=\"text-align: right;\">\n",
              "      <th></th>\n",
              "      <th>zona</th>\n",
              "      <th>area</th>\n",
              "      <th>quartos</th>\n",
              "    </tr>\n",
              "  </thead>\n",
              "  <tbody>\n",
              "    <tr>\n",
              "      <th>221</th>\n",
              "      <td>norte</td>\n",
              "      <td>4.007333</td>\n",
              "      <td>2.0</td>\n",
              "    </tr>\n",
              "    <tr>\n",
              "      <th>956</th>\n",
              "      <td>leste</td>\n",
              "      <td>4.406719</td>\n",
              "      <td>3.0</td>\n",
              "    </tr>\n",
              "    <tr>\n",
              "      <th>721</th>\n",
              "      <td>leste</td>\n",
              "      <td>4.454347</td>\n",
              "      <td>2.0</td>\n",
              "    </tr>\n",
              "    <tr>\n",
              "      <th>604</th>\n",
              "      <td>sul</td>\n",
              "      <td>4.369448</td>\n",
              "      <td>3.0</td>\n",
              "    </tr>\n",
              "    <tr>\n",
              "      <th>119</th>\n",
              "      <td>norte</td>\n",
              "      <td>4.875197</td>\n",
              "      <td>NaN</td>\n",
              "    </tr>\n",
              "  </tbody>\n",
              "</table>\n",
              "</div>"
            ],
            "text/plain": [
              "      zona      area  quartos\n",
              "221  norte  4.007333      2.0\n",
              "956  leste  4.406719      3.0\n",
              "721  leste  4.454347      2.0\n",
              "604    sul  4.369448      3.0\n",
              "119  norte  4.875197      NaN"
            ]
          },
          "metadata": {
            "tags": []
          },
          "execution_count": 19
        }
      ]
    },
    {
      "cell_type": "code",
      "metadata": {
        "id": "U0Z2pU286cAC"
      },
      "source": [
        "# Tratar colunas categoricas\r\n",
        "X_train = pd.get_dummies(X_train)\r\n",
        "X_test = pd.get_dummies(X_test)"
      ],
      "execution_count": null,
      "outputs": []
    },
    {
      "cell_type": "code",
      "metadata": {
        "colab": {
          "base_uri": "https://localhost:8080/",
          "height": 204
        },
        "id": "wymN9AHi6eUC",
        "outputId": "3ef23b13-e12e-47e5-add7-c5cc3ec71f3c"
      },
      "source": [
        "X_train.head()"
      ],
      "execution_count": null,
      "outputs": [
        {
          "output_type": "execute_result",
          "data": {
            "text/html": [
              "<div>\n",
              "<style scoped>\n",
              "    .dataframe tbody tr th:only-of-type {\n",
              "        vertical-align: middle;\n",
              "    }\n",
              "\n",
              "    .dataframe tbody tr th {\n",
              "        vertical-align: top;\n",
              "    }\n",
              "\n",
              "    .dataframe thead th {\n",
              "        text-align: right;\n",
              "    }\n",
              "</style>\n",
              "<table border=\"1\" class=\"dataframe\">\n",
              "  <thead>\n",
              "    <tr style=\"text-align: right;\">\n",
              "      <th></th>\n",
              "      <th>area</th>\n",
              "      <th>quartos</th>\n",
              "      <th>zona_leste</th>\n",
              "      <th>zona_norte</th>\n",
              "      <th>zona_oeste</th>\n",
              "      <th>zona_sul</th>\n",
              "    </tr>\n",
              "  </thead>\n",
              "  <tbody>\n",
              "    <tr>\n",
              "      <th>221</th>\n",
              "      <td>4.007333</td>\n",
              "      <td>2.0</td>\n",
              "      <td>0</td>\n",
              "      <td>1</td>\n",
              "      <td>0</td>\n",
              "      <td>0</td>\n",
              "    </tr>\n",
              "    <tr>\n",
              "      <th>956</th>\n",
              "      <td>4.406719</td>\n",
              "      <td>3.0</td>\n",
              "      <td>1</td>\n",
              "      <td>0</td>\n",
              "      <td>0</td>\n",
              "      <td>0</td>\n",
              "    </tr>\n",
              "    <tr>\n",
              "      <th>721</th>\n",
              "      <td>4.454347</td>\n",
              "      <td>2.0</td>\n",
              "      <td>1</td>\n",
              "      <td>0</td>\n",
              "      <td>0</td>\n",
              "      <td>0</td>\n",
              "    </tr>\n",
              "    <tr>\n",
              "      <th>604</th>\n",
              "      <td>4.369448</td>\n",
              "      <td>3.0</td>\n",
              "      <td>0</td>\n",
              "      <td>0</td>\n",
              "      <td>0</td>\n",
              "      <td>1</td>\n",
              "    </tr>\n",
              "    <tr>\n",
              "      <th>119</th>\n",
              "      <td>4.875197</td>\n",
              "      <td>NaN</td>\n",
              "      <td>0</td>\n",
              "      <td>1</td>\n",
              "      <td>0</td>\n",
              "      <td>0</td>\n",
              "    </tr>\n",
              "  </tbody>\n",
              "</table>\n",
              "</div>"
            ],
            "text/plain": [
              "         area  quartos  zona_leste  zona_norte  zona_oeste  zona_sul\n",
              "221  4.007333      2.0           0           1           0         0\n",
              "956  4.406719      3.0           1           0           0         0\n",
              "721  4.454347      2.0           1           0           0         0\n",
              "604  4.369448      3.0           0           0           0         1\n",
              "119  4.875197      NaN           0           1           0         0"
            ]
          },
          "metadata": {
            "tags": []
          },
          "execution_count": 21
        }
      ]
    },
    {
      "cell_type": "code",
      "metadata": {
        "id": "uwRNcOGN6f_C"
      },
      "source": [
        "# Tratar valores ausente\r\n",
        "# Importante: Usar informações do conjunto de treino\r\n",
        "train_medians = X_train.median()\r\n",
        "X_train=X_train.fillna(train_medians)\r\n",
        "X_test=X_test.fillna(train_medians)"
      ],
      "execution_count": null,
      "outputs": []
    },
    {
      "cell_type": "code",
      "metadata": {
        "colab": {
          "base_uri": "https://localhost:8080/",
          "height": 204
        },
        "id": "L5YNudfN6idv",
        "outputId": "53ccee30-cc38-4269-de19-da160cd8a6de"
      },
      "source": [
        "X_train.head()"
      ],
      "execution_count": null,
      "outputs": [
        {
          "output_type": "execute_result",
          "data": {
            "text/html": [
              "<div>\n",
              "<style scoped>\n",
              "    .dataframe tbody tr th:only-of-type {\n",
              "        vertical-align: middle;\n",
              "    }\n",
              "\n",
              "    .dataframe tbody tr th {\n",
              "        vertical-align: top;\n",
              "    }\n",
              "\n",
              "    .dataframe thead th {\n",
              "        text-align: right;\n",
              "    }\n",
              "</style>\n",
              "<table border=\"1\" class=\"dataframe\">\n",
              "  <thead>\n",
              "    <tr style=\"text-align: right;\">\n",
              "      <th></th>\n",
              "      <th>area</th>\n",
              "      <th>quartos</th>\n",
              "      <th>zona_leste</th>\n",
              "      <th>zona_norte</th>\n",
              "      <th>zona_oeste</th>\n",
              "      <th>zona_sul</th>\n",
              "    </tr>\n",
              "  </thead>\n",
              "  <tbody>\n",
              "    <tr>\n",
              "      <th>221</th>\n",
              "      <td>4.007333</td>\n",
              "      <td>2.0</td>\n",
              "      <td>0</td>\n",
              "      <td>1</td>\n",
              "      <td>0</td>\n",
              "      <td>0</td>\n",
              "    </tr>\n",
              "    <tr>\n",
              "      <th>956</th>\n",
              "      <td>4.406719</td>\n",
              "      <td>3.0</td>\n",
              "      <td>1</td>\n",
              "      <td>0</td>\n",
              "      <td>0</td>\n",
              "      <td>0</td>\n",
              "    </tr>\n",
              "    <tr>\n",
              "      <th>721</th>\n",
              "      <td>4.454347</td>\n",
              "      <td>2.0</td>\n",
              "      <td>1</td>\n",
              "      <td>0</td>\n",
              "      <td>0</td>\n",
              "      <td>0</td>\n",
              "    </tr>\n",
              "    <tr>\n",
              "      <th>604</th>\n",
              "      <td>4.369448</td>\n",
              "      <td>3.0</td>\n",
              "      <td>0</td>\n",
              "      <td>0</td>\n",
              "      <td>0</td>\n",
              "      <td>1</td>\n",
              "    </tr>\n",
              "    <tr>\n",
              "      <th>119</th>\n",
              "      <td>4.875197</td>\n",
              "      <td>2.0</td>\n",
              "      <td>0</td>\n",
              "      <td>1</td>\n",
              "      <td>0</td>\n",
              "      <td>0</td>\n",
              "    </tr>\n",
              "  </tbody>\n",
              "</table>\n",
              "</div>"
            ],
            "text/plain": [
              "         area  quartos  zona_leste  zona_norte  zona_oeste  zona_sul\n",
              "221  4.007333      2.0           0           1           0         0\n",
              "956  4.406719      3.0           1           0           0         0\n",
              "721  4.454347      2.0           1           0           0         0\n",
              "604  4.369448      3.0           0           0           0         1\n",
              "119  4.875197      2.0           0           1           0         0"
            ]
          },
          "metadata": {
            "tags": []
          },
          "execution_count": 23
        }
      ]
    },
    {
      "cell_type": "code",
      "metadata": {
        "colab": {
          "base_uri": "https://localhost:8080/"
        },
        "id": "mNw4t1k36ka-",
        "outputId": "1ecd4606-998d-4116-df6c-7a5d13f88061"
      },
      "source": [
        "from sklearn.neighbors import KNeighborsRegressor\r\n",
        "neigh = KNeighborsRegressor()\r\n",
        "neigh.fit(X_train, y_train)"
      ],
      "execution_count": null,
      "outputs": [
        {
          "output_type": "execute_result",
          "data": {
            "text/plain": [
              "KNeighborsRegressor(algorithm='auto', leaf_size=30, metric='minkowski',\n",
              "                    metric_params=None, n_jobs=None, n_neighbors=5, p=2,\n",
              "                    weights='uniform')"
            ]
          },
          "metadata": {
            "tags": []
          },
          "execution_count": 24
        }
      ]
    },
    {
      "cell_type": "code",
      "metadata": {
        "id": "nvg5IZum6nQJ"
      },
      "source": [
        "y_pred = neigh.predict(X_test)"
      ],
      "execution_count": null,
      "outputs": []
    },
    {
      "cell_type": "code",
      "metadata": {
        "colab": {
          "base_uri": "https://localhost:8080/"
        },
        "id": "1AwncJlJ6pHh",
        "outputId": "36ead3f8-3ba5-45a6-b5f4-01f789861118"
      },
      "source": [
        "# Erro quadrático médio\r\n",
        "np.sqrt(np.mean((y_pred-y_test.values)**2))"
      ],
      "execution_count": null,
      "outputs": [
        {
          "output_type": "execute_result",
          "data": {
            "text/plain": [
              "0.4736086843481374"
            ]
          },
          "metadata": {
            "tags": []
          },
          "execution_count": 26
        }
      ]
    },
    {
      "cell_type": "code",
      "metadata": {
        "colab": {
          "base_uri": "https://localhost:8080/"
        },
        "id": "Ox0D4JgT6rGI",
        "outputId": "71274498-c717-445b-a0d3-ed78386de342"
      },
      "source": [
        "# Erro Quadrático Médio\r\n",
        "np.mean((y_pred-y_test.values)**2)"
      ],
      "execution_count": null,
      "outputs": [
        {
          "output_type": "execute_result",
          "data": {
            "text/plain": [
              "0.22430518588997367"
            ]
          },
          "metadata": {
            "tags": []
          },
          "execution_count": 27
        }
      ]
    },
    {
      "cell_type": "code",
      "metadata": {
        "colab": {
          "base_uri": "https://localhost:8080/"
        },
        "id": "Xn_7B8u261fr",
        "outputId": "9e99b61c-61f6-4a54-8475-6013a3e21bce"
      },
      "source": [
        "# Erro Médio Absoluto\r\n",
        "np.mean(np.abs(y_pred-y_test.values))"
      ],
      "execution_count": null,
      "outputs": [
        {
          "output_type": "execute_result",
          "data": {
            "text/plain": [
              "0.3616742058829231"
            ]
          },
          "metadata": {
            "tags": []
          },
          "execution_count": 28
        }
      ]
    },
    {
      "cell_type": "code",
      "metadata": {
        "colab": {
          "base_uri": "https://localhost:8080/"
        },
        "id": "sIJgQOGo66_5",
        "outputId": "c0b74b96-2070-434f-9cf6-81a6980be3fa"
      },
      "source": [
        "# R2 Score\r\n",
        "from sklearn.metrics import r2_score\r\n",
        "r2_score(y_test, y_pred)"
      ],
      "execution_count": null,
      "outputs": [
        {
          "output_type": "execute_result",
          "data": {
            "text/plain": [
              "0.5161897704625475"
            ]
          },
          "metadata": {
            "tags": []
          },
          "execution_count": 29
        }
      ]
    },
    {
      "cell_type": "code",
      "metadata": {
        "colab": {
          "base_uri": "https://localhost:8080/"
        },
        "id": "42p1WTcD7AFK",
        "outputId": "de1179d0-1406-48f3-d991-e85a3d7c01c3"
      },
      "source": [
        "from sklearn.linear_model import LinearRegression\r\n",
        "reg = LinearRegression()\r\n",
        "reg.fit(X_train, y_train)\r\n",
        "\r\n",
        "reg.score(X_test, y_test)"
      ],
      "execution_count": null,
      "outputs": [
        {
          "output_type": "execute_result",
          "data": {
            "text/plain": [
              "0.608198296027433"
            ]
          },
          "metadata": {
            "tags": []
          },
          "execution_count": 30
        }
      ]
    },
    {
      "cell_type": "code",
      "metadata": {
        "colab": {
          "base_uri": "https://localhost:8080/"
        },
        "id": "6Zz6a6f77D10",
        "outputId": "12929e2e-f56a-485b-c938-57955185d918"
      },
      "source": [
        "from sklearn.tree import DecisionTreeRegressor\r\n",
        "from sklearn.ensemble import RandomForestRegressor\r\n",
        "from sklearn.neural_network import MLPRegressor\r\n",
        "from xgboost import XGBRegressor\r\n",
        "\r\n",
        "regressor_list = [DecisionTreeRegressor(),\r\n",
        "                  RandomForestRegressor(),\r\n",
        "                  MLPRegressor(),\r\n",
        "                  XGBRegressor(),\r\n",
        "                  ]\r\n",
        "\r\n",
        "for reg in regressor_list:\r\n",
        "  print('Treinando', reg.__class__.__name__)\r\n",
        "  reg.fit(X_train, y_train)\r\n",
        "  train_score = reg.score(X_train, y_train)\r\n",
        "  test_score = reg.score(X_test, y_test)\r\n",
        "  print('Train score', train_score)\r\n",
        "  print('Test score', test_score)\r\n",
        "  print('='*80)"
      ],
      "execution_count": null,
      "outputs": [
        {
          "output_type": "stream",
          "text": [
            "Treinando DecisionTreeRegressor\n",
            "Train score 0.873371877020912\n",
            "Test score 0.19076812964258716\n",
            "================================================================================\n",
            "Treinando RandomForestRegressor\n"
          ],
          "name": "stdout"
        },
        {
          "output_type": "stream",
          "text": [
            "/usr/local/lib/python3.6/dist-packages/ipykernel_launcher.py:14: DataConversionWarning: A column-vector y was passed when a 1d array was expected. Please change the shape of y to (n_samples,), for example using ravel().\n",
            "  \n"
          ],
          "name": "stderr"
        },
        {
          "output_type": "stream",
          "text": [
            "Train score 0.8331877381322323\n",
            "Test score 0.4549127103701102\n",
            "================================================================================\n",
            "Treinando MLPRegressor\n"
          ],
          "name": "stdout"
        },
        {
          "output_type": "stream",
          "text": [
            "/usr/local/lib/python3.6/dist-packages/sklearn/neural_network/_multilayer_perceptron.py:1342: DataConversionWarning: A column-vector y was passed when a 1d array was expected. Please change the shape of y to (n_samples, ), for example using ravel().\n",
            "  y = column_or_1d(y, warn=True)\n"
          ],
          "name": "stderr"
        },
        {
          "output_type": "stream",
          "text": [
            "Train score 0.5360854788194331\n",
            "Test score 0.6147730334069847\n",
            "================================================================================\n",
            "Treinando XGBRegressor\n",
            "[21:34:54] WARNING: /workspace/src/objective/regression_obj.cu:152: reg:linear is now deprecated in favor of reg:squarederror.\n",
            "Train score 0.6216956272925864\n",
            "Test score 0.6031620068446988\n",
            "================================================================================\n"
          ],
          "name": "stdout"
        }
      ]
    },
    {
      "cell_type": "code",
      "metadata": {
        "colab": {
          "base_uri": "https://localhost:8080/"
        },
        "id": "p4Uqa-YA7Hpa",
        "outputId": "319bd386-881c-44ec-ccf1-594659480ca1"
      },
      "source": [
        "len(X_train)//3"
      ],
      "execution_count": null,
      "outputs": [
        {
          "output_type": "execute_result",
          "data": {
            "text/plain": [
              "336"
            ]
          },
          "metadata": {
            "tags": []
          },
          "execution_count": 32
        }
      ]
    },
    {
      "cell_type": "code",
      "metadata": {
        "id": "YEBg5MjZ7LPs"
      },
      "source": [
        "X1=X_train[:336]\r\n",
        "X2=X_train[336:2*336]\r\n",
        "X3=X_train[2*336:]"
      ],
      "execution_count": null,
      "outputs": []
    },
    {
      "cell_type": "code",
      "metadata": {
        "colab": {
          "base_uri": "https://localhost:8080/"
        },
        "id": "TXZoiLY27NRo",
        "outputId": "00791625-4bc0-4554-c4ea-eaae3433dc71"
      },
      "source": [
        "# Repetindo com validação cruzada\r\n",
        "import warnings\r\n",
        "warnings.filterwarnings(\"ignore\")\r\n",
        "from sklearn.tree import DecisionTreeRegressor\r\n",
        "from sklearn.ensemble import RandomForestRegressor\r\n",
        "from sklearn.neural_network import MLPRegressor\r\n",
        "from xgboost import XGBRegressor\r\n",
        "from sklearn.model_selection import cross_val_score\r\n",
        "\r\n",
        "\r\n",
        "regressor_list = [DecisionTreeRegressor(),\r\n",
        "                  RandomForestRegressor(),\r\n",
        "                  MLPRegressor(),\r\n",
        "                  XGBRegressor(),\r\n",
        "                  ]\r\n",
        "\r\n",
        "for reg in regressor_list:\r\n",
        "  print('Treinando', reg.__class__.__name__)\r\n",
        "  reg.fit(X_train, y_train)\r\n",
        "  train_score = reg.score(X_train, y_train)\r\n",
        "  val_score = cross_val_score(reg, X_train, y_train, cv=3)\r\n",
        "  test_score = reg.score(X_test, y_test)\r\n",
        "  print('Train score', train_score)\r\n",
        "  print('Validation score', val_score)\r\n",
        "  print('Test score', test_score)\r\n",
        "  print('='*80)"
      ],
      "execution_count": null,
      "outputs": [
        {
          "output_type": "stream",
          "text": [
            "Treinando DecisionTreeRegressor\n",
            "Train score 0.8733718770209121\n",
            "Validation score [-0.08340255  0.31974834  0.33248167]\n",
            "Test score 0.18920059191433536\n",
            "================================================================================\n",
            "Treinando RandomForestRegressor\n",
            "Train score 0.8273090711017382\n",
            "Validation score [0.4089716  0.4209572  0.41285627]\n",
            "Test score 0.4759521080865904\n",
            "================================================================================\n",
            "Treinando MLPRegressor\n",
            "Train score 0.5377115598613744\n",
            "Validation score [0.49163794 0.55376605 0.53350332]\n",
            "Test score 0.614077777744173\n",
            "================================================================================\n",
            "Treinando XGBRegressor\n",
            "[21:35:34] WARNING: /workspace/src/objective/regression_obj.cu:152: reg:linear is now deprecated in favor of reg:squarederror.\n",
            "[21:35:34] WARNING: /workspace/src/objective/regression_obj.cu:152: reg:linear is now deprecated in favor of reg:squarederror.\n",
            "[21:35:34] WARNING: /workspace/src/objective/regression_obj.cu:152: reg:linear is now deprecated in favor of reg:squarederror.\n",
            "[21:35:34] WARNING: /workspace/src/objective/regression_obj.cu:152: reg:linear is now deprecated in favor of reg:squarederror.\n",
            "Train score 0.6216956272925864\n",
            "Validation score [0.47611934 0.46217938 0.51580278]\n",
            "Test score 0.6031620068446988\n",
            "================================================================================\n"
          ],
          "name": "stdout"
        }
      ]
    },
    {
      "cell_type": "code",
      "metadata": {
        "colab": {
          "base_uri": "https://localhost:8080/"
        },
        "id": "akqSmepu7Qy_",
        "outputId": "98282102-a33f-4b13-8b74-39292a2f4b69"
      },
      "source": [
        "# TODO: Calibração de modelo\r\n",
        "from sklearn.model_selection import GridSearchCV\r\n",
        "parameters=[{'learning_rate':[0.1,0.2,0.3,0.4],\r\n",
        "             'max_depth':[3,4,5,6,7,8],\r\n",
        "             'n_estimators':[50, 100, 200]}]\r\n",
        "            \r\n",
        "xgb = XGBRegressor(n_estimators=100, max_depth=1)\r\n",
        "gs = GridSearchCV(xgb,parameters,scoring='r2',n_jobs=-1,cv=3)\r\n",
        "gs.fit(X_train, y_train)"
      ],
      "execution_count": null,
      "outputs": [
        {
          "output_type": "stream",
          "text": [
            "[21:35:58] WARNING: /workspace/src/objective/regression_obj.cu:152: reg:linear is now deprecated in favor of reg:squarederror.\n"
          ],
          "name": "stdout"
        },
        {
          "output_type": "execute_result",
          "data": {
            "text/plain": [
              "GridSearchCV(cv=3, error_score=nan,\n",
              "             estimator=XGBRegressor(base_score=0.5, booster='gbtree',\n",
              "                                    colsample_bylevel=1, colsample_bynode=1,\n",
              "                                    colsample_bytree=1, gamma=0,\n",
              "                                    importance_type='gain', learning_rate=0.1,\n",
              "                                    max_delta_step=0, max_depth=1,\n",
              "                                    min_child_weight=1, missing=None,\n",
              "                                    n_estimators=100, n_jobs=1, nthread=None,\n",
              "                                    objective='reg:linear', random_state=0,\n",
              "                                    reg_alpha=0, reg_lambda=1,\n",
              "                                    scale_pos_weight=1, seed=None, silent=None,\n",
              "                                    subsample=1, verbosity=1),\n",
              "             iid='deprecated', n_jobs=-1,\n",
              "             param_grid=[{'learning_rate': [0.1, 0.2, 0.3, 0.4],\n",
              "                          'max_depth': [3, 4, 5, 6, 7, 8],\n",
              "                          'n_estimators': [50, 100, 200]}],\n",
              "             pre_dispatch='2*n_jobs', refit=True, return_train_score=False,\n",
              "             scoring='r2', verbose=0)"
            ]
          },
          "metadata": {
            "tags": []
          },
          "execution_count": 35
        }
      ]
    },
    {
      "cell_type": "code",
      "metadata": {
        "colab": {
          "base_uri": "https://localhost:8080/"
        },
        "id": "G8nWDTZ87UkY",
        "outputId": "62d82b46-e022-450e-bbe6-5a81793c2ed4"
      },
      "source": [
        "gs.best_params_"
      ],
      "execution_count": null,
      "outputs": [
        {
          "output_type": "execute_result",
          "data": {
            "text/plain": [
              "{'learning_rate': 0.1, 'max_depth': 3, 'n_estimators': 50}"
            ]
          },
          "metadata": {
            "tags": []
          },
          "execution_count": 36
        }
      ]
    },
    {
      "cell_type": "code",
      "metadata": {
        "id": "3JyjsmiE7YjV"
      },
      "source": [
        "reg = gs.best_estimator_"
      ],
      "execution_count": null,
      "outputs": []
    },
    {
      "cell_type": "code",
      "metadata": {
        "colab": {
          "base_uri": "https://localhost:8080/"
        },
        "id": "xET-R5487aVe",
        "outputId": "5d0aaeaa-3a27-4af1-b924-150f99433f49"
      },
      "source": [
        "train_score = reg.score(X_train, y_train)\r\n",
        "val_score = cross_val_score(reg, X_train, y_train, cv=3)\r\n",
        "test_score = reg.score(X_test, y_test)\r\n",
        "print('Train score', train_score)\r\n",
        "print('Validation score', val_score)\r\n",
        "print('Test score', test_score)"
      ],
      "execution_count": null,
      "outputs": [
        {
          "output_type": "stream",
          "text": [
            "[21:36:17] WARNING: /workspace/src/objective/regression_obj.cu:152: reg:linear is now deprecated in favor of reg:squarederror.\n",
            "[21:36:18] WARNING: /workspace/src/objective/regression_obj.cu:152: reg:linear is now deprecated in favor of reg:squarederror.\n",
            "[21:36:18] WARNING: /workspace/src/objective/regression_obj.cu:152: reg:linear is now deprecated in favor of reg:squarederror.\n",
            "Train score 0.5789568757784442\n",
            "Validation score [0.4992717  0.51989244 0.50999327]\n",
            "Test score 0.6060030969986206\n"
          ],
          "name": "stdout"
        }
      ]
    },
    {
      "cell_type": "code",
      "metadata": {
        "id": "iEz29GqM7cTp"
      },
      "source": [
        "import pickle\r\n",
        "# agora você pode salvá-lo em um arquivo\r\n",
        "with open('xgboost_regression.pkl', 'wb') as f:\r\n",
        "    pickle.dump(reg, f)\r\n",
        "\r\n",
        "## e depois você pode carregá-lo\r\n",
        "#with open('filename.pkl', 'rb') as f:\r\n",
        "#    clf = pickle.load(f)"
      ],
      "execution_count": null,
      "outputs": []
    },
    {
      "cell_type": "code",
      "metadata": {
        "colab": {
          "base_uri": "https://localhost:8080/"
        },
        "id": "iwqA5r-u7gAc",
        "outputId": "736093c9-8b2e-457f-af19-47204e9b36e1"
      },
      "source": [
        "from sklearn.utils import all_estimators\r\n",
        "\r\n",
        "estimators = all_estimators(type_filter='regressor')\r\n",
        "\r\n",
        "all_regs = []\r\n",
        "for name, RegressorClass in estimators:\r\n",
        "    try:\r\n",
        "        print('Appending', name)\r\n",
        "        reg = RegressorClass()\r\n",
        "        all_regs.append(reg)\r\n",
        "    except Exception as e:\r\n",
        "        print(e)"
      ],
      "execution_count": null,
      "outputs": [
        {
          "output_type": "stream",
          "text": [
            "Appending ARDRegression\n",
            "Appending AdaBoostRegressor\n",
            "Appending BaggingRegressor\n",
            "Appending BayesianRidge\n",
            "Appending CCA\n",
            "Appending DecisionTreeRegressor\n",
            "Appending DummyRegressor\n",
            "Appending ElasticNet\n",
            "Appending ElasticNetCV\n",
            "Appending ExtraTreeRegressor\n",
            "Appending ExtraTreesRegressor\n",
            "Appending GaussianProcessRegressor\n",
            "Appending GradientBoostingRegressor\n",
            "Appending HistGradientBoostingRegressor\n",
            "Appending HuberRegressor\n",
            "Appending IsotonicRegression\n",
            "Appending KNeighborsRegressor\n",
            "Appending KernelRidge\n",
            "Appending Lars\n",
            "Appending LarsCV\n",
            "Appending Lasso\n",
            "Appending LassoCV\n",
            "Appending LassoLars\n",
            "Appending LassoLarsCV\n",
            "Appending LassoLarsIC\n",
            "Appending LinearRegression\n",
            "Appending LinearSVR\n",
            "Appending MLPRegressor\n",
            "Appending MultiOutputRegressor\n",
            "__init__() missing 1 required positional argument: 'estimator'\n",
            "Appending MultiTaskElasticNet\n",
            "Appending MultiTaskElasticNetCV\n",
            "Appending MultiTaskLasso\n",
            "Appending MultiTaskLassoCV\n",
            "Appending NuSVR\n",
            "Appending OrthogonalMatchingPursuit\n",
            "Appending OrthogonalMatchingPursuitCV\n",
            "Appending PLSCanonical\n",
            "Appending PLSRegression\n",
            "Appending PassiveAggressiveRegressor\n",
            "Appending RANSACRegressor\n",
            "Appending RadiusNeighborsRegressor\n",
            "Appending RandomForestRegressor\n",
            "Appending RegressorChain\n",
            "__init__() missing 1 required positional argument: 'base_estimator'\n",
            "Appending Ridge\n",
            "Appending RidgeCV\n",
            "Appending SGDRegressor\n",
            "Appending SVR\n",
            "Appending StackingRegressor\n",
            "__init__() missing 1 required positional argument: 'estimators'\n",
            "Appending TheilSenRegressor\n",
            "Appending TransformedTargetRegressor\n",
            "Appending VotingRegressor\n",
            "__init__() missing 1 required positional argument: 'estimators'\n"
          ],
          "name": "stdout"
        }
      ]
    },
    {
      "cell_type": "code",
      "metadata": {
        "colab": {
          "base_uri": "https://localhost:8080/"
        },
        "id": "TvaKOJU77t5H",
        "outputId": "c2e89f7d-55fb-40ef-9205-507a24c35240"
      },
      "source": [
        "for reg in all_regs:\r\n",
        "  try:\r\n",
        "    print('Treinando', reg.__class__.__name__)\r\n",
        "    reg.fit(X_train, y_train)\r\n",
        "    train_score = reg.score(X_train, y_train)\r\n",
        "    val_score = cross_val_score(reg, X_train, y_train, cv=3)\r\n",
        "    test_score = reg.score(X_test, y_test)\r\n",
        "    print('Train score', train_score)\r\n",
        "    print('Validation score', val_score)\r\n",
        "    print('Test score', test_score)\r\n",
        "    print('='*80)\r\n",
        "  except Exception as e:\r\n",
        "    print(e)"
      ],
      "execution_count": null,
      "outputs": [
        {
          "output_type": "stream",
          "text": [
            "Treinando ARDRegression\n",
            "Train score 0.5352118136732038\n",
            "Validation score [0.49442644 0.55090771 0.53209802]\n",
            "Test score 0.6090776818752173\n",
            "================================================================================\n",
            "Treinando AdaBoostRegressor\n",
            "Train score 0.5694962425972963\n",
            "Validation score [0.39733012 0.3084734  0.47910911]\n",
            "Test score 0.43152598758050104\n",
            "================================================================================\n",
            "Treinando BaggingRegressor\n",
            "Train score 0.8165671576935207\n",
            "Validation score [0.28901999 0.37392578 0.43789571]\n",
            "Test score 0.38721829671937\n",
            "================================================================================\n",
            "Treinando BayesianRidge\n",
            "Train score 0.5356922527589508\n",
            "Validation score [0.49466432 0.55075339 0.5309406 ]\n",
            "Test score 0.6083168791197096\n",
            "================================================================================\n",
            "Treinando CCA\n",
            "Train score 0.464933034729899\n",
            "Validation score [0.40594575 0.45094989 0.49658903]\n",
            "Test score 0.5230467772572782\n",
            "================================================================================\n",
            "Treinando DecisionTreeRegressor\n",
            "Train score 0.873371877020912\n",
            "Validation score [-0.07077314  0.31327151  0.3272667 ]\n",
            "Test score 0.18893707488886546\n",
            "================================================================================\n",
            "Treinando DummyRegressor\n",
            "Train score 0.0\n",
            "Validation score [-5.22923725e-05 -1.94718974e-02 -1.21164358e-02]\n",
            "Test score -0.0001003508810866194\n",
            "================================================================================\n",
            "Treinando ElasticNet\n",
            "Train score 0.0\n",
            "Validation score [-5.22923725e-05 -1.94718974e-02 -1.21164358e-02]\n",
            "Test score -0.0001003508810866194\n",
            "================================================================================\n",
            "Treinando ElasticNetCV\n",
            "Train score 0.5356978103134324\n",
            "Validation score [0.4941423  0.55098712 0.52995402]\n",
            "Test score 0.6084178552903691\n",
            "================================================================================\n",
            "Treinando ExtraTreeRegressor\n",
            "Train score 0.873371877020912\n",
            "Validation score [0.35526608 0.25842961 0.31704756]\n",
            "Test score -0.029977435643847805\n",
            "================================================================================\n",
            "Treinando ExtraTreesRegressor\n",
            "Train score 0.873371877020912\n",
            "Validation score [0.40383601 0.34516671 0.36300973]\n",
            "Test score 0.13648898731122805\n",
            "================================================================================\n",
            "Treinando GaussianProcessRegressor\n",
            "Train score 0.6221364874144448\n",
            "Validation score [-506817.20582554  -58312.26404233  -12261.04691352]\n",
            "Test score -368637.65363876824\n",
            "================================================================================\n",
            "Treinando GradientBoostingRegressor\n",
            "Train score 0.6321594883072461\n",
            "Validation score [0.45972788 0.4824553  0.50495552]\n",
            "Test score 0.6021067425594853\n",
            "================================================================================\n",
            "Treinando HistGradientBoostingRegressor\n",
            "Train score 0.6860462342164284\n",
            "Validation score [0.48246103 0.48776531 0.49074402]\n",
            "Test score 0.5596861514147202\n",
            "================================================================================\n",
            "Treinando HuberRegressor\n",
            "Train score 0.5333775451549922\n",
            "Validation score [0.49166923 0.55637758 0.53318681]\n",
            "Test score 0.6078831969314796\n",
            "================================================================================\n",
            "Treinando IsotonicRegression\n",
            "X should be a 1d array\n",
            "Treinando KNeighborsRegressor\n",
            "Train score 0.6316348990548883\n",
            "Validation score [0.45921448 0.41128453 0.41721715]\n",
            "Test score 0.5161897704625475\n",
            "================================================================================\n",
            "Treinando KernelRidge\n",
            "Train score 0.5170836224324957\n",
            "Validation score [0.4230364  0.52688614 0.5239205 ]\n",
            "Test score 0.5946047883997019\n",
            "================================================================================\n",
            "Treinando Lars\n",
            "Train score 0.5357075981860853\n",
            "Validation score [0.49429904 0.55021975 0.53178426]\n",
            "Test score 0.6081982960274328\n",
            "================================================================================\n",
            "Treinando LarsCV\n",
            "Train score 0.5346030013841272\n",
            "Validation score [0.49429904 0.55021975 0.52736705]\n",
            "Test score 0.6091485188186712\n",
            "================================================================================\n",
            "Treinando Lasso\n",
            "Train score 0.0\n",
            "Validation score [-5.22923725e-05 -1.94718974e-02 -1.21164358e-02]\n",
            "Test score -0.0001003508810866194\n",
            "================================================================================\n",
            "Treinando LassoCV\n",
            "Train score 0.5357015848398552\n",
            "Validation score [0.49392979 0.55054831 0.53002668]\n",
            "Test score 0.6083987605523526\n",
            "================================================================================\n",
            "Treinando LassoLars\n",
            "Train score 0.0\n",
            "Validation score [-5.22923725e-05 -1.94718974e-02 -1.21164358e-02]\n",
            "Test score -0.0001003508810866194\n",
            "================================================================================\n",
            "Treinando LassoLarsCV\n",
            "Train score 0.5346030013841272\n",
            "Validation score [0.49429904 0.55021975 0.52736705]\n",
            "Test score 0.6091485188186712\n",
            "================================================================================\n",
            "Treinando LassoLarsIC\n",
            "Train score 0.5351101917604268\n",
            "Validation score [0.49372812 0.55224127 0.53112889]\n",
            "Test score 0.6086231597272651\n",
            "================================================================================\n",
            "Treinando LinearRegression\n",
            "Train score 0.5357075981860852\n",
            "Validation score [0.49429904 0.55021975 0.53178426]\n",
            "Test score 0.608198296027433\n",
            "================================================================================\n",
            "Treinando LinearSVR\n",
            "Train score 0.5313898391781324\n",
            "Validation score [0.49122208 0.55444954 0.53342626]\n",
            "Test score 0.6035653220066927\n",
            "================================================================================\n",
            "Treinando MLPRegressor\n",
            "Train score 0.5403039607391202\n",
            "Validation score [0.48134532 0.55225521 0.54041009]\n",
            "Test score 0.607599471466665\n",
            "================================================================================\n",
            "Treinando MultiTaskElasticNet\n",
            "Train score 0.0\n",
            "Validation score [-5.22923725e-05 -1.94718974e-02 -1.21164358e-02]\n",
            "Test score -0.0001003508810866194\n",
            "================================================================================\n",
            "Treinando MultiTaskElasticNetCV\n",
            "Train score 0.5356978103134324\n",
            "Validation score [0.4941423  0.55098712 0.52995402]\n",
            "Test score 0.6084178552903691\n",
            "================================================================================\n",
            "Treinando MultiTaskLasso\n",
            "Train score 0.0\n",
            "Validation score [-5.22923725e-05 -1.94718974e-02 -1.21164358e-02]\n",
            "Test score -0.0001003508810866194\n",
            "================================================================================\n",
            "Treinando MultiTaskLassoCV\n",
            "Train score 0.5357015848398552\n",
            "Validation score [0.49392979 0.55054831 0.53002668]\n",
            "Test score 0.6083987605523526\n",
            "================================================================================\n",
            "Treinando NuSVR\n",
            "Train score 0.5535377949371894\n",
            "Validation score [0.52673027 0.5449385  0.5326843 ]\n",
            "Test score 0.6114503035960429\n",
            "================================================================================\n",
            "Treinando OrthogonalMatchingPursuit\n",
            "Train score 0.4555595893971167\n",
            "Validation score [0.40036638 0.4887413  0.46823737]\n",
            "Test score 0.5542295757632392\n",
            "================================================================================\n",
            "Treinando OrthogonalMatchingPursuitCV\n",
            "Train score 0.5353786220141075\n",
            "Validation score [0.49429965 0.55293774 0.53140304]\n",
            "Test score 0.60685627262863\n",
            "================================================================================\n",
            "Treinando PLSCanonical\n",
            "Train score 0.17488444487950539\n",
            "Validation score [0.11939032 0.04166495 0.27755707]\n",
            "Test score 0.14355480640633178\n",
            "================================================================================\n",
            "Treinando PLSRegression\n",
            "Train score 0.520500381786041\n",
            "Validation score [0.49170562 0.51738811 0.4982983 ]\n",
            "Test score 0.5730814975759301\n",
            "================================================================================\n",
            "Treinando PassiveAggressiveRegressor\n",
            "Train score 0.5165118877901169\n",
            "Validation score [ 0.46969238 -0.06861152  0.46194468]\n",
            "Test score 0.5735792009495803\n",
            "================================================================================\n",
            "Treinando RANSACRegressor\n",
            "Train score 0.5037861485672743\n",
            "Validation score [0.49790881 0.48393285 0.47335554]\n",
            "Test score 0.5472366583267002\n",
            "================================================================================\n",
            "Treinando RadiusNeighborsRegressor\n",
            "Input contains NaN, infinity or a value too large for dtype('float64').\n",
            "Treinando RandomForestRegressor\n",
            "Train score 0.8276416220000374\n",
            "Validation score [0.39166819 0.41877985 0.4305329 ]\n",
            "Test score 0.46219201711162206\n",
            "================================================================================\n",
            "Treinando Ridge\n",
            "Train score 0.5357033596479182\n",
            "Validation score [0.49451697 0.55049026 0.53135717]\n",
            "Test score 0.6082650812793228\n",
            "================================================================================\n",
            "Treinando RidgeCV\n",
            "Train score 0.5357033596479185\n",
            "Validation score [0.49451697 0.55049026 0.53135717]\n",
            "Test score 0.6082650812793262\n",
            "================================================================================\n",
            "Treinando SGDRegressor\n",
            "Train score 0.49004537439952234\n",
            "Validation score [0.35562769 0.49774719 0.49428843]\n",
            "Test score 0.5652705507183065\n",
            "================================================================================\n",
            "Treinando SVR\n",
            "Train score 0.5528172816544674\n",
            "Validation score [0.52325006 0.54529042 0.52804062]\n",
            "Test score 0.6008914593389241\n",
            "================================================================================\n",
            "Treinando TheilSenRegressor\n",
            "Train score 0.4832162693643162\n",
            "Validation score [0.42987948 0.52623807 0.47878077]\n",
            "Test score 0.5625347353011736\n",
            "================================================================================\n",
            "Treinando TransformedTargetRegressor\n",
            "Train score 0.5357075981860852\n",
            "Validation score [0.49429904 0.55021975 0.53178426]\n",
            "Test score 0.608198296027433\n",
            "================================================================================\n"
          ],
          "name": "stdout"
        }
      ]
    },
    {
      "cell_type": "code",
      "metadata": {
        "id": "O8Rk3Y1G7xOK"
      },
      "source": [
        ""
      ],
      "execution_count": null,
      "outputs": []
    }
  ]
}