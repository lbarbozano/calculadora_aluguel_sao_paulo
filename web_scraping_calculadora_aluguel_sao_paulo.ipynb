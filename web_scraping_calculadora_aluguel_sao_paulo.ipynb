{
  "nbformat": 4,
  "nbformat_minor": 0,
  "metadata": {
    "colab": {
      "name": "web-scraping_calculadora_aluguel_sao_paulo.ipynb",
      "provenance": [],
      "collapsed_sections": [],
      "authorship_tag": "ABX9TyMDBIub1aHJD6qb6tnhI4cV",
      "include_colab_link": true
    },
    "kernelspec": {
      "name": "python3",
      "display_name": "Python 3"
    }
  },
  "cells": [
    {
      "cell_type": "markdown",
      "metadata": {
        "id": "view-in-github",
        "colab_type": "text"
      },
      "source": [
        "<a href=\"https://colab.research.google.com/github/lbarbozano/calculadora_aluguel_sao_paulo/blob/main/web_scraping_calculadora_aluguel_sao_paulo.ipynb\" target=\"_parent\"><img src=\"https://colab.research.google.com/assets/colab-badge.svg\" alt=\"Open In Colab\"/></a>"
      ]
    },
    {
      "cell_type": "code",
      "metadata": {
        "id": "C7R4tTYO9I63"
      },
      "source": [
        "import requests\r\n",
        "from bs4 import BeautifulSoup\r\n",
        "import pandas as pd\r\n",
        "from time import sleep"
      ],
      "execution_count": 1,
      "outputs": []
    },
    {
      "cell_type": "code",
      "metadata": {
        "id": "aRnTOz9V9PH5"
      },
      "source": [
        "zonas = ['norte', 'sul', 'leste', 'oeste']\r\n",
        "URL='https://imoveis.mercadolivre.com.br/casas/aluguel/sao-paulo/sao-paulo-zona-{}/{}'\r\n",
        "paginas = ['', '_Desde_49', '_Desde_97', '_Desde_145', '_Desde_193', \r\n",
        "           '_Desde_241', '_Desde_289']"
      ],
      "execution_count": 2,
      "outputs": []
    },
    {
      "cell_type": "code",
      "metadata": {
        "id": "FQSFbvvB9crf"
      },
      "source": [
        "def scrap(url):\r\n",
        "    c=requests.get(url).content\r\n",
        "    soup=BeautifulSoup(c)\r\n",
        "    aluguel_tags = soup.find_all('span', {'class':'price-tag-fraction'})\r\n",
        "    alugueis_lista = [p.text for p in aluguel_tags]\r\n",
        "    enderecos_tags = soup.find_all('span', {'class':'ui-search-item__group__element'})\r\n",
        "    enderecos_lista=[end.text for end in enderecos_tags]\r\n",
        "    enderecos_lista=enderecos_lista[1::2]\r\n",
        "    area_quartos_tags = soup.find_all('ul', {'class':'ui-search-card-attributes'})\r\n",
        "    area_quartos_lista=[aq.text for aq in area_quartos_tags]\r\n",
        "    df=convert_df(zona, area_quartos_lista, enderecos_lista, alugueis_lista)\r\n",
        "    return df"
      ],
      "execution_count": 3,
      "outputs": []
    },
    {
      "cell_type": "code",
      "metadata": {
        "id": "TYgYDAMX9iEW"
      },
      "source": [
        "def convert_df(zona, area_quartos_lista, enderecos_lista, alugueis_lista):\r\n",
        "    zonas_lista = [zona]*len(alugueis_lista)\r\n",
        "    data = {'zona': zonas_lista,\r\n",
        "            'area_quartos': area_quartos_lista,\r\n",
        "            'enderecos_lista':enderecos_lista,\r\n",
        "            'aluguel': alugueis_lista}\r\n",
        "    df = pd.DataFrame(data)\r\n",
        "    return df"
      ],
      "execution_count": 4,
      "outputs": []
    },
    {
      "cell_type": "code",
      "metadata": {
        "colab": {
          "base_uri": "https://localhost:8080/"
        },
        "id": "qMcznwpVLWMi",
        "outputId": "982109dc-cc82-41bb-9a44-b9109fe0095e"
      },
      "source": [
        "df_lista = []\r\n",
        "for zona in zonas:\r\n",
        "  for pg in paginas:\r\n",
        "    url=URL.format(zona, pg)\r\n",
        "    print('Coletando URL:', url)\r\n",
        "    try:\r\n",
        "      df=scrap(url)\r\n",
        "    except Exception as e:\r\n",
        "      print('Erro ao coletar URL:', url)\r\n",
        "      print(e)\r\n",
        "    df_lista.append(df)\r\n",
        "    sleep(1)\r\n",
        "df_final = pd.concat(df_lista)"
      ],
      "execution_count": 5,
      "outputs": [
        {
          "output_type": "stream",
          "text": [
            "Coletando URL: https://imoveis.mercadolivre.com.br/casas/aluguel/sao-paulo/sao-paulo-zona-norte/\n",
            "Coletando URL: https://imoveis.mercadolivre.com.br/casas/aluguel/sao-paulo/sao-paulo-zona-norte/_Desde_49\n",
            "Coletando URL: https://imoveis.mercadolivre.com.br/casas/aluguel/sao-paulo/sao-paulo-zona-norte/_Desde_97\n",
            "Coletando URL: https://imoveis.mercadolivre.com.br/casas/aluguel/sao-paulo/sao-paulo-zona-norte/_Desde_145\n",
            "Coletando URL: https://imoveis.mercadolivre.com.br/casas/aluguel/sao-paulo/sao-paulo-zona-norte/_Desde_193\n",
            "Coletando URL: https://imoveis.mercadolivre.com.br/casas/aluguel/sao-paulo/sao-paulo-zona-norte/_Desde_241\n",
            "Coletando URL: https://imoveis.mercadolivre.com.br/casas/aluguel/sao-paulo/sao-paulo-zona-norte/_Desde_289\n",
            "Erro ao coletar URL: https://imoveis.mercadolivre.com.br/casas/aluguel/sao-paulo/sao-paulo-zona-norte/_Desde_289\n",
            "arrays must all be same length\n",
            "Coletando URL: https://imoveis.mercadolivre.com.br/casas/aluguel/sao-paulo/sao-paulo-zona-sul/\n",
            "Coletando URL: https://imoveis.mercadolivre.com.br/casas/aluguel/sao-paulo/sao-paulo-zona-sul/_Desde_49\n",
            "Coletando URL: https://imoveis.mercadolivre.com.br/casas/aluguel/sao-paulo/sao-paulo-zona-sul/_Desde_97\n",
            "Coletando URL: https://imoveis.mercadolivre.com.br/casas/aluguel/sao-paulo/sao-paulo-zona-sul/_Desde_145\n",
            "Coletando URL: https://imoveis.mercadolivre.com.br/casas/aluguel/sao-paulo/sao-paulo-zona-sul/_Desde_193\n",
            "Coletando URL: https://imoveis.mercadolivre.com.br/casas/aluguel/sao-paulo/sao-paulo-zona-sul/_Desde_241\n",
            "Coletando URL: https://imoveis.mercadolivre.com.br/casas/aluguel/sao-paulo/sao-paulo-zona-sul/_Desde_289\n",
            "Coletando URL: https://imoveis.mercadolivre.com.br/casas/aluguel/sao-paulo/sao-paulo-zona-leste/\n",
            "Coletando URL: https://imoveis.mercadolivre.com.br/casas/aluguel/sao-paulo/sao-paulo-zona-leste/_Desde_49\n",
            "Erro ao coletar URL: https://imoveis.mercadolivre.com.br/casas/aluguel/sao-paulo/sao-paulo-zona-leste/_Desde_49\n",
            "arrays must all be same length\n",
            "Coletando URL: https://imoveis.mercadolivre.com.br/casas/aluguel/sao-paulo/sao-paulo-zona-leste/_Desde_97\n",
            "Coletando URL: https://imoveis.mercadolivre.com.br/casas/aluguel/sao-paulo/sao-paulo-zona-leste/_Desde_145\n",
            "Coletando URL: https://imoveis.mercadolivre.com.br/casas/aluguel/sao-paulo/sao-paulo-zona-leste/_Desde_193\n",
            "Erro ao coletar URL: https://imoveis.mercadolivre.com.br/casas/aluguel/sao-paulo/sao-paulo-zona-leste/_Desde_193\n",
            "arrays must all be same length\n",
            "Coletando URL: https://imoveis.mercadolivre.com.br/casas/aluguel/sao-paulo/sao-paulo-zona-leste/_Desde_241\n",
            "Coletando URL: https://imoveis.mercadolivre.com.br/casas/aluguel/sao-paulo/sao-paulo-zona-leste/_Desde_289\n",
            "Coletando URL: https://imoveis.mercadolivre.com.br/casas/aluguel/sao-paulo/sao-paulo-zona-oeste/\n",
            "Coletando URL: https://imoveis.mercadolivre.com.br/casas/aluguel/sao-paulo/sao-paulo-zona-oeste/_Desde_49\n",
            "Coletando URL: https://imoveis.mercadolivre.com.br/casas/aluguel/sao-paulo/sao-paulo-zona-oeste/_Desde_97\n",
            "Coletando URL: https://imoveis.mercadolivre.com.br/casas/aluguel/sao-paulo/sao-paulo-zona-oeste/_Desde_145\n",
            "Coletando URL: https://imoveis.mercadolivre.com.br/casas/aluguel/sao-paulo/sao-paulo-zona-oeste/_Desde_193\n",
            "Coletando URL: https://imoveis.mercadolivre.com.br/casas/aluguel/sao-paulo/sao-paulo-zona-oeste/_Desde_241\n",
            "Coletando URL: https://imoveis.mercadolivre.com.br/casas/aluguel/sao-paulo/sao-paulo-zona-oeste/_Desde_289\n",
            "Erro ao coletar URL: https://imoveis.mercadolivre.com.br/casas/aluguel/sao-paulo/sao-paulo-zona-oeste/_Desde_289\n",
            "arrays must all be same length\n"
          ],
          "name": "stdout"
        }
      ]
    },
    {
      "cell_type": "code",
      "metadata": {
        "colab": {
          "base_uri": "https://localhost:8080/",
          "height": 204
        },
        "id": "Cumtm88pLX6n",
        "outputId": "065c830d-387a-491a-f7d1-d2e6f21435b3"
      },
      "source": [
        "df_final.head()"
      ],
      "execution_count": 6,
      "outputs": [
        {
          "output_type": "execute_result",
          "data": {
            "text/html": [
              "<div>\n",
              "<style scoped>\n",
              "    .dataframe tbody tr th:only-of-type {\n",
              "        vertical-align: middle;\n",
              "    }\n",
              "\n",
              "    .dataframe tbody tr th {\n",
              "        vertical-align: top;\n",
              "    }\n",
              "\n",
              "    .dataframe thead th {\n",
              "        text-align: right;\n",
              "    }\n",
              "</style>\n",
              "<table border=\"1\" class=\"dataframe\">\n",
              "  <thead>\n",
              "    <tr style=\"text-align: right;\">\n",
              "      <th></th>\n",
              "      <th>zona</th>\n",
              "      <th>area_quartos</th>\n",
              "      <th>enderecos_lista</th>\n",
              "      <th>aluguel</th>\n",
              "    </tr>\n",
              "  </thead>\n",
              "  <tbody>\n",
              "    <tr>\n",
              "      <th>0</th>\n",
              "      <td>norte</td>\n",
              "      <td>70 m² construídos1 quarto</td>\n",
              "      <td>Nobrega De Souza Coutinho 05, Jardim Peri, São...</td>\n",
              "      <td>600</td>\n",
              "    </tr>\n",
              "    <tr>\n",
              "      <th>1</th>\n",
              "      <td>norte</td>\n",
              "      <td>50 m² construídos1 quarto</td>\n",
              "      <td>Rua Campo Belo Do Sul 113, Parque Vitória, São...</td>\n",
              "      <td>1.000</td>\n",
              "    </tr>\n",
              "    <tr>\n",
              "      <th>2</th>\n",
              "      <td>norte</td>\n",
              "      <td>80 m² construídos2 quartos</td>\n",
              "      <td>Rua José Eduardo Raduan 5, Parque Edu Chaves, ...</td>\n",
              "      <td>1.299</td>\n",
              "    </tr>\n",
              "    <tr>\n",
              "      <th>3</th>\n",
              "      <td>norte</td>\n",
              "      <td>30 m² construídos1 quarto</td>\n",
              "      <td>Rua Rodolfo Bardela 335, Brasilândia, São Paul...</td>\n",
              "      <td>1.200</td>\n",
              "    </tr>\n",
              "    <tr>\n",
              "      <th>4</th>\n",
              "      <td>norte</td>\n",
              "      <td>56 m² construídos2 quartos</td>\n",
              "      <td>Narita, Jardim Japão, São Paulo Zona Norte, Sã...</td>\n",
              "      <td>1.300</td>\n",
              "    </tr>\n",
              "  </tbody>\n",
              "</table>\n",
              "</div>"
            ],
            "text/plain": [
              "    zona  ... aluguel\n",
              "0  norte  ...     600\n",
              "1  norte  ...   1.000\n",
              "2  norte  ...   1.299\n",
              "3  norte  ...   1.200\n",
              "4  norte  ...   1.300\n",
              "\n",
              "[5 rows x 4 columns]"
            ]
          },
          "metadata": {
            "tags": []
          },
          "execution_count": 6
        }
      ]
    },
    {
      "cell_type": "code",
      "metadata": {
        "id": "BG93m29fLvBH"
      },
      "source": [
        ""
      ],
      "execution_count": null,
      "outputs": []
    }
  ]
}